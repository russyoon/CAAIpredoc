{
  "nbformat": 4,
  "nbformat_minor": 0,
  "metadata": {
    "colab": {
      "name": "CAAI.ipynb",
      "provenance": [],
      "collapsed_sections": []
    },
    "kernelspec": {
      "name": "python3",
      "display_name": "Python 3"
    }
  },
  "cells": [
    {
      "cell_type": "code",
      "metadata": {
        "id": "Ir5LkOIza6ES"
      },
      "source": [
        "!ln -s '/content/drive/My Drive' /gdrive\n",
        "import numpy as np\n",
        "import pandas as pd\n",
        "import matplotlib.pyplot as plt\n",
        "import matplotlib.ticker as ticker\n",
        "import matplotlib.cm as cm\n",
        "from datetime import datetime\n",
        "from datetime import timedelta\n",
        "from scipy.io import loadmat\n",
        "import seaborn as sns\n",
        "%matplotlib inline\n",
        "import warnings\n",
        "warnings.filterwarnings('ignore')\n",
        "from IPython.display import display_html\n",
        "def display_side_by_side(*args):\n",
        "    html_str=''\n",
        "    for df in args:\n",
        "        html_str+=df.to_html()\n",
        "    display_html(html_str.replace('table','table style=\"display:inline\"'),raw=True)"
      ],
      "execution_count": 1,
      "outputs": []
    },
    {
      "cell_type": "markdown",
      "metadata": {
        "id": "t8GEb_haB-wN"
      },
      "source": [
        "#Loading Matlab data\n"
      ]
    },
    {
      "cell_type": "code",
      "metadata": {
        "id": "lt6Nuv_2bHZS"
      },
      "source": [
        "imdb = loadmat('/gdrive/imdb.mat')\n",
        "wiki = loadmat('/gdrive/wiki.mat')"
      ],
      "execution_count": 2,
      "outputs": []
    },
    {
      "cell_type": "markdown",
      "metadata": {
        "id": "JAwGNXrXCCLy"
      },
      "source": [
        "#Creating age variable\n"
      ]
    },
    {
      "cell_type": "code",
      "metadata": {
        "id": "3YWpNeHubHgf"
      },
      "source": [
        "imdb_born = [datetime.fromordinal(int(matlab_datenum)).year-1 for matlab_datenum in list(imdb['imdb'][0][0]['dob'][0])]\n",
        "wiki_born = [datetime.fromordinal(int(matlab_datenum)).year-1 for matlab_datenum in list(wiki['wiki'][0][0]['dob'][0])]\n",
        "dataset = ['imdb']*len(imdb_born)+['wiki']*len(wiki_born)\n",
        "born = imdb_born + wiki_born\n",
        "taken = np.hstack((imdb['imdb'][0][0]['photo_taken'][0],wiki['wiki'][0][0]['photo_taken'][0]))\n",
        "age = taken - np.array(born) \n",
        "sex = np.hstack((imdb['imdb'][0][0]['gender'][0],wiki['wiki'][0][0]['gender'][0]))"
      ],
      "execution_count": 3,
      "outputs": []
    },
    {
      "cell_type": "markdown",
      "metadata": {
        "id": "iN_WdyLfCGB-"
      },
      "source": [
        "#Creating dataframe with age, gender and dataset information\n"
      ]
    },
    {
      "cell_type": "code",
      "metadata": {
        "id": "ZkUUTVUGgiwY"
      },
      "source": [
        "agesex = pd.DataFrame([dataset,age,sex],index=['from','age','sex'],dtype=np.int8).T\n",
        "agesex = agesex[(0<agesex.age)&(agesex.age<100)].reset_index(drop=True)\n",
        "agesex['age'] = agesex['age'].apply(pd.to_numeric)\n",
        "agesex['sex'] = agesex['sex'].apply(pd.to_numeric)"
      ],
      "execution_count": 4,
      "outputs": []
    },
    {
      "cell_type": "markdown",
      "metadata": {
        "id": "iAEMsB-OCKr8"
      },
      "source": [
        "#Summary statistics\n"
      ]
    },
    {
      "cell_type": "code",
      "metadata": {
        "colab": {
          "base_uri": "https://localhost:8080/",
          "height": 284
        },
        "id": "O6EHC5ft1RJN",
        "outputId": "fede72c8-729a-4723-b3dc-c0ba05ab10c4"
      },
      "source": [
        "display_side_by_side(round(agesex[agesex['from']=='imdb'].describe(),1),round(agesex[agesex['from']=='wiki'].describe(),1),round(agesex.describe(),1))"
      ],
      "execution_count": 5,
      "outputs": [
        {
          "output_type": "display_data",
          "data": {
            "text/html": [
              "<table style=\"display:inline\" border=\"1\" class=\"dataframe\">\n",
              "  <thead>\n",
              "    <tr style=\"text-align: right;\">\n",
              "      <th></th>\n",
              "      <th>age</th>\n",
              "      <th>sex</th>\n",
              "    </tr>\n",
              "  </thead>\n",
              "  <tbody>\n",
              "    <tr>\n",
              "      <th>count</th>\n",
              "      <td>460019.0</td>\n",
              "      <td>451566.0</td>\n",
              "    </tr>\n",
              "    <tr>\n",
              "      <th>mean</th>\n",
              "      <td>36.9</td>\n",
              "      <td>0.6</td>\n",
              "    </tr>\n",
              "    <tr>\n",
              "      <th>std</th>\n",
              "      <td>13.1</td>\n",
              "      <td>0.5</td>\n",
              "    </tr>\n",
              "    <tr>\n",
              "      <th>min</th>\n",
              "      <td>1.0</td>\n",
              "      <td>0.0</td>\n",
              "    </tr>\n",
              "    <tr>\n",
              "      <th>25%</th>\n",
              "      <td>28.0</td>\n",
              "      <td>0.0</td>\n",
              "    </tr>\n",
              "    <tr>\n",
              "      <th>50%</th>\n",
              "      <td>35.0</td>\n",
              "      <td>1.0</td>\n",
              "    </tr>\n",
              "    <tr>\n",
              "      <th>75%</th>\n",
              "      <td>44.0</td>\n",
              "      <td>1.0</td>\n",
              "    </tr>\n",
              "    <tr>\n",
              "      <th>max</th>\n",
              "      <td>99.0</td>\n",
              "      <td>1.0</td>\n",
              "    </tr>\n",
              "  </tbody>\n",
              "</table style=\"display:inline\"><table style=\"display:inline\" border=\"1\" class=\"dataframe\">\n",
              "  <thead>\n",
              "    <tr style=\"text-align: right;\">\n",
              "      <th></th>\n",
              "      <th>age</th>\n",
              "      <th>sex</th>\n",
              "    </tr>\n",
              "  </thead>\n",
              "  <tbody>\n",
              "    <tr>\n",
              "      <th>count</th>\n",
              "      <td>60408.0</td>\n",
              "      <td>57932.0</td>\n",
              "    </tr>\n",
              "    <tr>\n",
              "      <th>mean</th>\n",
              "      <td>37.0</td>\n",
              "      <td>0.8</td>\n",
              "    </tr>\n",
              "    <tr>\n",
              "      <th>std</th>\n",
              "      <td>16.6</td>\n",
              "      <td>0.4</td>\n",
              "    </tr>\n",
              "    <tr>\n",
              "      <th>min</th>\n",
              "      <td>1.0</td>\n",
              "      <td>0.0</td>\n",
              "    </tr>\n",
              "    <tr>\n",
              "      <th>25%</th>\n",
              "      <td>25.0</td>\n",
              "      <td>1.0</td>\n",
              "    </tr>\n",
              "    <tr>\n",
              "      <th>50%</th>\n",
              "      <td>31.0</td>\n",
              "      <td>1.0</td>\n",
              "    </tr>\n",
              "    <tr>\n",
              "      <th>75%</th>\n",
              "      <td>47.0</td>\n",
              "      <td>1.0</td>\n",
              "    </tr>\n",
              "    <tr>\n",
              "      <th>max</th>\n",
              "      <td>99.0</td>\n",
              "      <td>1.0</td>\n",
              "    </tr>\n",
              "  </tbody>\n",
              "</table style=\"display:inline\"><table style=\"display:inline\" border=\"1\" class=\"dataframe\">\n",
              "  <thead>\n",
              "    <tr style=\"text-align: right;\">\n",
              "      <th></th>\n",
              "      <th>age</th>\n",
              "      <th>sex</th>\n",
              "    </tr>\n",
              "  </thead>\n",
              "  <tbody>\n",
              "    <tr>\n",
              "      <th>count</th>\n",
              "      <td>520427.0</td>\n",
              "      <td>509498.0</td>\n",
              "    </tr>\n",
              "    <tr>\n",
              "      <th>mean</th>\n",
              "      <td>36.9</td>\n",
              "      <td>0.6</td>\n",
              "    </tr>\n",
              "    <tr>\n",
              "      <th>std</th>\n",
              "      <td>13.6</td>\n",
              "      <td>0.5</td>\n",
              "    </tr>\n",
              "    <tr>\n",
              "      <th>min</th>\n",
              "      <td>1.0</td>\n",
              "      <td>0.0</td>\n",
              "    </tr>\n",
              "    <tr>\n",
              "      <th>25%</th>\n",
              "      <td>27.0</td>\n",
              "      <td>0.0</td>\n",
              "    </tr>\n",
              "    <tr>\n",
              "      <th>50%</th>\n",
              "      <td>35.0</td>\n",
              "      <td>1.0</td>\n",
              "    </tr>\n",
              "    <tr>\n",
              "      <th>75%</th>\n",
              "      <td>45.0</td>\n",
              "      <td>1.0</td>\n",
              "    </tr>\n",
              "    <tr>\n",
              "      <th>max</th>\n",
              "      <td>99.0</td>\n",
              "      <td>1.0</td>\n",
              "    </tr>\n",
              "  </tbody>\n",
              "</table style=\"display:inline\">"
            ]
          },
          "metadata": {
            "tags": []
          }
        }
      ]
    },
    {
      "cell_type": "markdown",
      "metadata": {
        "id": "1ewHfuQm4RSF"
      },
      "source": [
        "#Visualization of the age distribution\n"
      ]
    },
    {
      "cell_type": "code",
      "metadata": {
        "colab": {
          "base_uri": "https://localhost:8080/",
          "height": 295
        },
        "id": "wpkgX8yooBkZ",
        "outputId": "18c94e30-8661-4513-e688-2079702d9538"
      },
      "source": [
        "data = ['imdb','wiki']\n",
        "for d in data:\n",
        "    subset = agesex[agesex['from'] == d]\n",
        "    sns.distplot(subset['age'], hist = False, kde = True,\n",
        "                 kde_kws = {'linewidth': 2},\n",
        "                 label = d)\n",
        "sns.distplot(agesex['age'], hist = False, kde = True,\n",
        "                 kde_kws = {'linewidth': 2},\n",
        "                 label = 'imdb+wiki')\n",
        "plt.legend(title = 'Dataset')\n",
        "plt.title('Density Plot of IMDB-Wiki')\n",
        "plt.xlabel('Age')\n",
        "plt.ylabel('Density')\n",
        "plt.savefig('caai1.png')\n",
        "plt.show()"
      ],
      "execution_count": 6,
      "outputs": [
        {
          "output_type": "display_data",
          "data": {
            "image/png": "[encoded data removed]",
            "text/plain": [
              "<Figure size 432x288 with 1 Axes>"
            ]
          },
          "metadata": {
            "tags": [],
            "needs_background": "light"
          }
        }
      ]
    },
    {
      "cell_type": "markdown",
      "metadata": {
        "id": "VUVB6piBCQcS"
      },
      "source": [
        "#Answers to question 2 and 3\n"
      ]
    },
    {
      "cell_type": "code",
      "metadata": {
        "colab": {
          "base_uri": "https://localhost:8080/"
        },
        "id": "LKJuidU6iZ2D",
        "outputId": "66524197-4fbd-4faf-94b0-b69ca4fc69c4"
      },
      "source": [
        "print(len(agesex[(15<=agesex.age)&(agesex.age<=25)]))\n",
        "print(len(agesex))\n",
        "print(len(agesex[(15<=agesex.age)&(agesex.age<=25)])/len(agesex))"
      ],
      "execution_count": 7,
      "outputs": [
        {
          "output_type": "stream",
          "text": [
            "90939\n",
            "520427\n",
            "0.17473920453781222\n"
          ],
          "name": "stdout"
        }
      ]
    },
    {
      "cell_type": "code",
      "metadata": {
        "colab": {
          "base_uri": "https://localhost:8080/"
        },
        "id": "s8MJQ7RSva2U",
        "outputId": "b918a485-475c-4a5e-fd4d-4a4af96bd6e0"
      },
      "source": [
        "print(len(agesex[(agesex.age==30)&(agesex.sex==1)]))\n",
        "print(len(agesex[(agesex.age==30)&(agesex.sex==1)])/len(agesex))"
      ],
      "execution_count": 8,
      "outputs": [
        {
          "output_type": "stream",
          "text": [
            "8555\n",
            "0.01643842460133698\n"
          ],
          "name": "stdout"
        }
      ]
    }
  ]
}